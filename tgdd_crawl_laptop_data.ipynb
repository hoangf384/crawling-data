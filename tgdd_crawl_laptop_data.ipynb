{
 "cells": [
  {
   "cell_type": "code",
   "execution_count": 1,
   "id": "a6d34708-8333-477c-a7fd-fe658e053c1a",
   "metadata": {},
   "outputs": [],
   "source": [
    "from selenium import webdriver\n",
    "import numpy as np\n",
    "import pandas as pd\n",
    "from time import sleep\n",
    "import random\n",
    "from selenium.webdriver.common.by import By\n",
    "from selenium.webdriver.edge.service import Service\n",
    "from math import ceil\n",
    "import os"
   ]
  },
  {
   "cell_type": "code",
   "execution_count": 2,
   "id": "94de51ea-a042-4011-82a5-69ac6ecc3abf",
   "metadata": {},
   "outputs": [],
   "source": [
    "def calculate_pi_max(items_per_page, remain_count):\n",
    "    \"\"\"\n",
    "    Tính số page tối đa cần load.\n",
    "\n",
    "    items_per_page: số sản phẩm hiển thị trên page đầu tiên\n",
    "    remain_count: số sản phẩm còn lại chưa hiển thị (xem từ 'Xem thêm')\n",
    "    \"\"\"\n",
    "    total_items = items_per_page + remain_count\n",
    "    pi_max = ceil(total_items / items_per_page)\n",
    "    pi_max -= 1\n",
    "    return pi_max, total_items"
   ]
  },
  {
   "cell_type": "code",
   "execution_count": 3,
   "id": "1c9b8850-6905-463f-bdc2-bb806ea9bfe5",
   "metadata": {},
   "outputs": [
    {
     "name": "stdout",
     "output_type": "stream",
     "text": [
      "product limit per page: 20\n",
      "total products: 387\n"
     ]
    }
   ],
   "source": [
    "url = \"https://www.thegioididong.com/laptop\" \n",
    "request_url = \"https://www.thegioididong.com/laptop#c=44&o=13&pi={}\" #&pi=0\n",
    "\n",
    "service = Service(r\"C:\\web driver\\msedgedriver.exe\")\n",
    "driver = webdriver.Edge(service=service)\n",
    "driver.get(url)\n",
    "sleep(3) \n",
    "\n",
    "items = driver.find_elements(By.CSS_SELECTOR, \"a.main-contain\")\n",
    "remain_count = int(driver.find_elements(By.CSS_SELECTOR, \"strong.see-more-btn span.remain\")[0].text)\n",
    "\n",
    "print(\"product limit per page:\", len(items))\n",
    "print(\"total products:\", remain_count)\n",
    "driver.quit()"
   ]
  },
  {
   "cell_type": "code",
   "execution_count": 4,
   "id": "649794bf-da1a-4cbc-8741-3beeee6260b9",
   "metadata": {},
   "outputs": [
    {
     "name": "stdout",
     "output_type": "stream",
     "text": [
      "(20, 407)\n"
     ]
    }
   ],
   "source": [
    "print(calculate_pi_max(len(items),remain_count))\n",
    "pi = calculate_pi_max(len(items),remain_count)[0]"
   ]
  },
  {
   "cell_type": "code",
   "execution_count": 5,
   "id": "6531e65c-816f-40f3-9a3d-f6b03764ccf4",
   "metadata": {},
   "outputs": [
    {
     "name": "stdout",
     "output_type": "stream",
     "text": [
      "all page has been crawled, total product: 406\n"
     ]
    }
   ],
   "source": [
    "# crawl st\n",
    "url = request_url.format(pi)\n",
    "\n",
    "driver = webdriver.Edge(service=service)\n",
    "driver.get(url)\n",
    "sleep(random.randint(5, 10))  # delay \n",
    "\n",
    "links, names, prices, brands = [], [], [], []\n",
    "\n",
    "items = driver.find_elements(By.CSS_SELECTOR, \"a.main-contain\")\n",
    "for item in items:\n",
    "    links.append(item.get_attribute(\"href\"))\n",
    "    names.append(item.get_attribute(\"data-name\"))\n",
    "    prices.append(item.get_attribute(\"data-price\"))\n",
    "    brands.append(item.get_attribute(\"data-brand\"))\n",
    "print(f\"all page has been crawled, total product: {len(links)}\")\n",
    "\n",
    "driver.quit()"
   ]
  },
  {
   "cell_type": "code",
   "execution_count": 6,
   "id": "8274b0a3-a763-4e87-90b6-9de235dc8f68",
   "metadata": {},
   "outputs": [],
   "source": [
    "df = pd.DataFrame({\n",
    "    \"link\": links,\n",
    "    \"name\": names,\n",
    "    \"price\": prices,\n",
    "    \"brand\": brands\n",
    "})\n",
    "os.makedirs(\"tgdd\", exist_ok=True)\n",
    "df.to_csv(\"tgdd/raw_data.csv\", index=False)"
   ]
  }
 ],
 "metadata": {
  "kernelspec": {
   "display_name": "Python 3 (ipykernel)",
   "language": "python",
   "name": "python3"
  },
  "language_info": {
   "codemirror_mode": {
    "name": "ipython",
    "version": 3
   },
   "file_extension": ".py",
   "mimetype": "text/x-python",
   "name": "python",
   "nbconvert_exporter": "python",
   "pygments_lexer": "ipython3",
   "version": "3.12.9"
  }
 },
 "nbformat": 4,
 "nbformat_minor": 5
}
