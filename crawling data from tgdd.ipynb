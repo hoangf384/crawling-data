{
 "cells": [
  {
   "cell_type": "code",
   "execution_count": 1,
   "id": "a6d34708-8333-477c-a7fd-fe658e053c1a",
   "metadata": {},
   "outputs": [],
   "source": [
    "from selenium import webdriver\n",
    "import numpy as np\n",
    "import pandas as pd\n",
    "from time import sleep\n",
    "import random\n",
    "from selenium.webdriver.common.by import By\n",
    "from selenium.webdriver.edge.service import Service\n",
    "from math import ceil\n",
    "import os"
   ]
  },
  {
   "cell_type": "code",
   "execution_count": 2,
   "id": "94de51ea-a042-4011-82a5-69ac6ecc3abf",
   "metadata": {},
   "outputs": [],
   "source": [
    "def calculate_pi_max(items_per_page, remain_count):\n",
    "    \"\"\"\n",
    "    Tính số page tối đa cần load.\n",
    "\n",
    "    items_per_page: số sản phẩm hiển thị trên page đầu tiên\n",
    "    remain_count: số sản phẩm còn lại chưa hiển thị (xem từ 'Xem thêm')\n",
    "    \"\"\"\n",
    "    total_items = items_per_page + remain_count\n",
    "    pi_max = ceil(total_items / items_per_page)\n",
    "    pi_max -= 1\n",
    "    return pi_max, total_items"
   ]
  },
  {
   "cell_type": "code",
   "execution_count": 3,
   "id": "1c9b8850-6905-463f-bdc2-bb806ea9bfe5",
   "metadata": {},
   "outputs": [
    {
     "name": "stdout",
     "output_type": "stream",
     "text": [
      "product limit per page: 20\n",
      "total products: 386\n"
     ]
    }
   ],
   "source": [
    "url = \"https://www.thegioididong.com/laptop\" \n",
    "request_url = \"https://www.thegioididong.com/laptop#c=44&o=13&pi={}\" #&pi=0\n",
    "\n",
    "service = Service(r\"C:\\web driver\\msedgedriver.exe\")\n",
    "driver = webdriver.Edge(service=service)\n",
    "driver.get(url)\n",
    "sleep(3) \n",
    "\n",
    "items = driver.find_elements(By.CSS_SELECTOR, \"a.main-contain\")\n",
    "remain_count = int(driver.find_elements(By.CSS_SELECTOR, \"strong.see-more-btn span.remain\")[0].text)\n",
    "\n",
    "print(\"product limit per page:\", len(items))\n",
    "print(\"total products:\", remain_count)\n",
    "driver.quit()"
   ]
  },
  {
   "cell_type": "code",
   "execution_count": 4,
   "id": "649794bf-da1a-4cbc-8741-3beeee6260b9",
   "metadata": {},
   "outputs": [
    {
     "name": "stdout",
     "output_type": "stream",
     "text": [
      "(20, 406)\n"
     ]
    }
   ],
   "source": [
    "print(calculate_pi_max(len(items),remain_count))\n",
    "pi = calculate_pi_max(len(items),remain_count)[0]"
   ]
  },
  {
   "cell_type": "code",
   "execution_count": 5,
   "id": "6531e65c-816f-40f3-9a3d-f6b03764ccf4",
   "metadata": {},
   "outputs": [
    {
     "name": "stdout",
     "output_type": "stream",
     "text": [
      "all page has been crawled, total product: 405\n"
     ]
    }
   ],
   "source": [
    "url = request_url.format(pi)\n",
    "\n",
    "driver = webdriver.Edge(service=service)\n",
    "driver.get(url)\n",
    "sleep(random.randint(5, 10))  # delay \n",
    "\n",
    "pid, links, names, prices, brands = [], [], [], [], []\n",
    "\n",
    "items = driver.find_elements(By.CSS_SELECTOR, \"a.main-contain\")\n",
    "for item in items:\n",
    "    pid.append(item.get_attribute(\"data-id\"))\n",
    "    links.append(item.get_attribute(\"href\"))\n",
    "    names.append(item.get_attribute(\"data-name\"))\n",
    "    prices.append(item.get_attribute(\"data-price\"))\n",
    "    brands.append(item.get_attribute(\"data-brand\"))\n",
    "print(f\"all page has been crawled, total product: {len(links)}\")\n",
    "\n",
    "driver.quit()"
   ]
  },
  {
   "cell_type": "code",
   "execution_count": 6,
   "id": "2ee87c66-c34d-4465-97b5-e35262b11758",
   "metadata": {},
   "outputs": [
    {
     "data": {
      "text/html": [
       "<div>\n",
       "<style scoped>\n",
       "    .dataframe tbody tr th:only-of-type {\n",
       "        vertical-align: middle;\n",
       "    }\n",
       "\n",
       "    .dataframe tbody tr th {\n",
       "        vertical-align: top;\n",
       "    }\n",
       "\n",
       "    .dataframe thead th {\n",
       "        text-align: right;\n",
       "    }\n",
       "</style>\n",
       "<table border=\"1\" class=\"dataframe\">\n",
       "  <thead>\n",
       "    <tr style=\"text-align: right;\">\n",
       "      <th></th>\n",
       "      <th>pid</th>\n",
       "      <th>link</th>\n",
       "      <th>name</th>\n",
       "      <th>price</th>\n",
       "      <th>brand</th>\n",
       "    </tr>\n",
       "  </thead>\n",
       "  <tbody>\n",
       "    <tr>\n",
       "      <th>0</th>\n",
       "      <td>327098</td>\n",
       "      <td>https://www.thegioididong.com/laptop/hp-15-fc0...</td>\n",
       "      <td>Laptop HP 15 fc0085AU - A6VV8PA (R5 7430U, 16G...</td>\n",
       "      <td>12990000.0</td>\n",
       "      <td>HP</td>\n",
       "    </tr>\n",
       "    <tr>\n",
       "      <th>1</th>\n",
       "      <td>311178</td>\n",
       "      <td>https://www.thegioididong.com/laptop/asus-vivo...</td>\n",
       "      <td>Laptop Asus Vivobook Go 15 E1504FA - NJ776W (R...</td>\n",
       "      <td>12390000.0</td>\n",
       "      <td>Asus</td>\n",
       "    </tr>\n",
       "    <tr>\n",
       "      <th>2</th>\n",
       "      <td>334442</td>\n",
       "      <td>https://www.thegioididong.com/laptop/lenovo-id...</td>\n",
       "      <td>Laptop Lenovo IdeaPad Slim 3 15IRH10 - 83K1000...</td>\n",
       "      <td>15890000.0</td>\n",
       "      <td>Lenovo</td>\n",
       "    </tr>\n",
       "    <tr>\n",
       "      <th>3</th>\n",
       "      <td>335362</td>\n",
       "      <td>https://www.thegioididong.com/laptop/macbook-a...</td>\n",
       "      <td>Laptop MacBook Air 13 inch M4 16GB/256GB</td>\n",
       "      <td>25090000.0</td>\n",
       "      <td>MacBook</td>\n",
       "    </tr>\n",
       "    <tr>\n",
       "      <th>4</th>\n",
       "      <td>337470</td>\n",
       "      <td>https://www.thegioididong.com/laptop/dell-insp...</td>\n",
       "      <td>Laptop Dell Inspiron 15 3520 - 71064798 (i5 12...</td>\n",
       "      <td>15490000.0</td>\n",
       "      <td>Dell</td>\n",
       "    </tr>\n",
       "  </tbody>\n",
       "</table>\n",
       "</div>"
      ],
      "text/plain": [
       "      pid                                               link  \\\n",
       "0  327098  https://www.thegioididong.com/laptop/hp-15-fc0...   \n",
       "1  311178  https://www.thegioididong.com/laptop/asus-vivo...   \n",
       "2  334442  https://www.thegioididong.com/laptop/lenovo-id...   \n",
       "3  335362  https://www.thegioididong.com/laptop/macbook-a...   \n",
       "4  337470  https://www.thegioididong.com/laptop/dell-insp...   \n",
       "\n",
       "                                                name       price    brand  \n",
       "0  Laptop HP 15 fc0085AU - A6VV8PA (R5 7430U, 16G...  12990000.0       HP  \n",
       "1  Laptop Asus Vivobook Go 15 E1504FA - NJ776W (R...  12390000.0     Asus  \n",
       "2  Laptop Lenovo IdeaPad Slim 3 15IRH10 - 83K1000...  15890000.0   Lenovo  \n",
       "3           Laptop MacBook Air 13 inch M4 16GB/256GB  25090000.0  MacBook  \n",
       "4  Laptop Dell Inspiron 15 3520 - 71064798 (i5 12...  15490000.0     Dell  "
      ]
     },
     "execution_count": 6,
     "metadata": {},
     "output_type": "execute_result"
    }
   ],
   "source": [
    "df = pd.DataFrame({\n",
    "    \"pid\": pid,\n",
    "    \"link\": links,\n",
    "    \"name\": names,\n",
    "    \"price\": prices,\n",
    "    \"brand\": brands\n",
    "})\n",
    "df.head()"
   ]
  },
  {
   "cell_type": "code",
   "execution_count": 7,
   "id": "e4d8313c-826e-49d6-9f33-61d6febe73c4",
   "metadata": {},
   "outputs": [],
   "source": [
    "os.makedirs(\"tgdd\", exist_ok=True)\n",
    "df.to_csv(\"tgdd/raw_data.csv\", index=False)"
   ]
  }
 ],
 "metadata": {
  "kernelspec": {
   "display_name": "Python 3 (ipykernel)",
   "language": "python",
   "name": "python3"
  },
  "language_info": {
   "codemirror_mode": {
    "name": "ipython",
    "version": 3
   },
   "file_extension": ".py",
   "mimetype": "text/x-python",
   "name": "python",
   "nbconvert_exporter": "python",
   "pygments_lexer": "ipython3",
   "version": "3.12.9"
  }
 },
 "nbformat": 4,
 "nbformat_minor": 5
}
