{
 "cells": [
  {
   "cell_type": "code",
   "execution_count": 1,
   "id": "b6b99510-f608-43e2-a2f4-3e5ae87bfc39",
   "metadata": {},
   "outputs": [],
   "source": [
    "import pandas as pd\n",
    "import numpy as np\n",
    "import re\n",
    "import ast\n",
    "import os\n",
    "from utils import changing_id, return_list"
   ]
  },
  {
   "cell_type": "code",
   "execution_count": 2,
   "id": "61b5b7e3-d1b1-4f22-8a46-cd254213fb8c",
   "metadata": {},
   "outputs": [
    {
     "name": "stdout",
     "output_type": "stream",
     "text": [
      "C:\\Users\\hoang\\Jupyter Notebook\n"
     ]
    },
    {
     "name": "stderr",
     "output_type": "stream",
     "text": [
      "D:\\conda\\Lib\\site-packages\\IPython\\core\\magics\\osm.py:393: UserWarning: This is now an optional IPython functionality, using bookmarks requires you to install the `pickleshare` library.\n",
      "  bkms = self.shell.db.get('bookmarks', {})\n",
      "D:\\conda\\Lib\\site-packages\\IPython\\core\\magics\\osm.py:417: UserWarning: This is now an optional IPython functionality, setting dhist requires you to install the `pickleshare` library.\n",
      "  self.shell.db['dhist'] = compress_dhist(dhist)[-100:]\n"
     ]
    }
   ],
   "source": [
    "cd ~\\Jupyter Notebook"
   ]
  },
  {
   "cell_type": "code",
   "execution_count": 3,
   "id": "12f01bd4-89d1-44f2-97e8-e3f517bb38b3",
   "metadata": {},
   "outputs": [],
   "source": [
    "df = pd.read_csv(r\"tgdd/raw_data.csv\")"
   ]
  },
  {
   "cell_type": "code",
   "execution_count": 4,
   "id": "0d288e44-caef-4b48-9c33-584d15e30a35",
   "metadata": {},
   "outputs": [
    {
     "name": "stdout",
     "output_type": "stream",
     "text": [
      "C:\\Users\\hoang\\output_specs\n"
     ]
    },
    {
     "name": "stderr",
     "output_type": "stream",
     "text": [
      "D:\\conda\\Lib\\site-packages\\IPython\\core\\magics\\osm.py:393: UserWarning: This is now an optional IPython functionality, using bookmarks requires you to install the `pickleshare` library.\n",
      "  bkms = self.shell.db.get('bookmarks', {})\n",
      "D:\\conda\\Lib\\site-packages\\IPython\\core\\magics\\osm.py:417: UserWarning: This is now an optional IPython functionality, setting dhist requires you to install the `pickleshare` library.\n",
      "  self.shell.db['dhist'] = compress_dhist(dhist)[-100:]\n"
     ]
    }
   ],
   "source": [
    "cd ~\\output_specs"
   ]
  },
  {
   "cell_type": "code",
   "execution_count": 5,
   "id": "8f952daf-26bd-4320-8d56-a1a59eff04da",
   "metadata": {},
   "outputs": [
    {
     "name": "stdout",
     "output_type": "stream",
     "text": [
      " Volume in drive C is Windows\n",
      " Volume Serial Number is 2EDA-789B\n",
      "\n",
      " Directory of C:\\Users\\hoang\\output_specs\n",
      "\n",
      "09/26/2025  01:01 PM    <DIR>          .\n",
      "09/14/2025  03:44 PM    <DIR>          ..\n",
      "09/05/2025  01:46 PM    <DIR>          .ipynb_checkpoints\n",
      "09/08/2025  04:06 PM            52,088 B? nh? RAM, ? c?ng.csv\n",
      "09/08/2025  04:06 PM            45,807 B? x? ly.csv\n",
      "09/15/2025  01:40 PM            30,679 chip_clean.csv\n",
      "09/08/2025  04:06 PM           137,904 C?ng k?t n?i & t¡nh nang m? r?ng.csv\n",
      "09/15/2025  01:40 PM            78,497 data_clean.csv\n",
      "09/08/2025  04:06 PM            36,337 D? ho? (GPU).csv\n",
      "09/08/2025  04:06 PM            57,048 K¡ch thu?c - Kh?i lu?ng - Pin.csv\n",
      "09/08/2025  04:06 PM            47,937 M…n h�nh.csv\n",
      "09/26/2025  01:02 PM            46,562 Monitor_clean.csv\n",
      "09/08/2025  04:06 PM             9,634 rating_sales.csv\n",
      "09/19/2025  12:48 PM            27,081 size_clean.csv\n",
      "              11 File(s)        569,574 bytes\n",
      "               3 Dir(s)  30,729,867,264 bytes free\n"
     ]
    }
   ],
   "source": [
    "ls"
   ]
  },
  {
   "cell_type": "code",
   "execution_count": 6,
   "id": "d2aa25d1-7a5e-474a-9dee-ee00a30fb4c3",
   "metadata": {},
   "outputs": [
    {
     "data": {
      "text/html": [
       "<div>\n",
       "<style scoped>\n",
       "    .dataframe tbody tr th:only-of-type {\n",
       "        vertical-align: middle;\n",
       "    }\n",
       "\n",
       "    .dataframe tbody tr th {\n",
       "        vertical-align: top;\n",
       "    }\n",
       "\n",
       "    .dataframe thead th {\n",
       "        text-align: right;\n",
       "    }\n",
       "</style>\n",
       "<table border=\"1\" class=\"dataframe\">\n",
       "  <thead>\n",
       "    <tr style=\"text-align: right;\">\n",
       "      <th></th>\n",
       "      <th>data_id</th>\n",
       "      <th>rating</th>\n",
       "      <th>quantity_sales</th>\n",
       "    </tr>\n",
       "  </thead>\n",
       "  <tbody>\n",
       "    <tr>\n",
       "      <th>0</th>\n",
       "      <td>327098</td>\n",
       "      <td>4.9</td>\n",
       "      <td>Đã bán 13,4k</td>\n",
       "    </tr>\n",
       "    <tr>\n",
       "      <th>1</th>\n",
       "      <td>311178</td>\n",
       "      <td>4.9</td>\n",
       "      <td>Đã bán 23,5k</td>\n",
       "    </tr>\n",
       "    <tr>\n",
       "      <th>2</th>\n",
       "      <td>334442</td>\n",
       "      <td>4.9</td>\n",
       "      <td>Đã bán 3,2k</td>\n",
       "    </tr>\n",
       "    <tr>\n",
       "      <th>3</th>\n",
       "      <td>335362</td>\n",
       "      <td>4.9</td>\n",
       "      <td>Đã bán 4,2k</td>\n",
       "    </tr>\n",
       "    <tr>\n",
       "      <th>4</th>\n",
       "      <td>337470</td>\n",
       "      <td>5.0</td>\n",
       "      <td>Đã bán 2,2k</td>\n",
       "    </tr>\n",
       "    <tr>\n",
       "      <th>...</th>\n",
       "      <td>...</td>\n",
       "      <td>...</td>\n",
       "      <td>...</td>\n",
       "    </tr>\n",
       "    <tr>\n",
       "      <th>400</th>\n",
       "      <td>342508</td>\n",
       "      <td>NaN</td>\n",
       "      <td>NaN</td>\n",
       "    </tr>\n",
       "    <tr>\n",
       "      <th>401</th>\n",
       "      <td>342517</td>\n",
       "      <td>NaN</td>\n",
       "      <td>NaN</td>\n",
       "    </tr>\n",
       "    <tr>\n",
       "      <th>402</th>\n",
       "      <td>342523</td>\n",
       "      <td>NaN</td>\n",
       "      <td>NaN</td>\n",
       "    </tr>\n",
       "    <tr>\n",
       "      <th>403</th>\n",
       "      <td>342721</td>\n",
       "      <td>NaN</td>\n",
       "      <td>NaN</td>\n",
       "    </tr>\n",
       "    <tr>\n",
       "      <th>404</th>\n",
       "      <td>342725</td>\n",
       "      <td>NaN</td>\n",
       "      <td>NaN</td>\n",
       "    </tr>\n",
       "  </tbody>\n",
       "</table>\n",
       "<p>405 rows × 3 columns</p>\n",
       "</div>"
      ],
      "text/plain": [
       "     data_id  rating quantity_sales\n",
       "0     327098     4.9   Đã bán 13,4k\n",
       "1     311178     4.9   Đã bán 23,5k\n",
       "2     334442     4.9    Đã bán 3,2k\n",
       "3     335362     4.9    Đã bán 4,2k\n",
       "4     337470     5.0    Đã bán 2,2k\n",
       "..       ...     ...            ...\n",
       "400   342508     NaN            NaN\n",
       "401   342517     NaN            NaN\n",
       "402   342523     NaN            NaN\n",
       "403   342721     NaN            NaN\n",
       "404   342725     NaN            NaN\n",
       "\n",
       "[405 rows x 3 columns]"
      ]
     },
     "execution_count": 6,
     "metadata": {},
     "output_type": "execute_result"
    }
   ],
   "source": [
    "RatingSales = pd.read_csv(r\"C:\\Users\\hoang\\output_specs\\rating_sales.csv\")\n",
    "RatingSales"
   ]
  },
  {
   "cell_type": "code",
   "execution_count": 8,
   "id": "2db30c41-ce84-4a4c-8d36-2355cea4ccfc",
   "metadata": {},
   "outputs": [],
   "source": [
    "try:\n",
    "    RatingSales = changing_id(RatingSales)\n",
    "    df = changing_id(df)\n",
    "    RatingSales = RatingSales.map(return_list)\n",
    "    df = df.map(return_list)\n",
    "except:\n",
    "    None"
   ]
  },
  {
   "cell_type": "code",
   "execution_count": 9,
   "id": "4f475b45-1fe0-4d9d-8ba7-7c08b20e583b",
   "metadata": {
    "scrolled": true
   },
   "outputs": [
    {
     "data": {
      "text/plain": [
       "quantity_sales\n",
       "Đã bán 2      16\n",
       "Đã bán 1      15\n",
       "Đã bán 4      11\n",
       "Đã bán 3       9\n",
       "Đã bán 1k      7\n",
       "              ..\n",
       "Đã bán 90      1\n",
       "Đã bán 14k     1\n",
       "Đã bán 104     1\n",
       "Đã bán 206     1\n",
       "Đã bán 414     1\n",
       "Name: count, Length: 228, dtype: int64"
      ]
     },
     "execution_count": 9,
     "metadata": {},
     "output_type": "execute_result"
    }
   ],
   "source": [
    "RatingSales.quantity_sales.value_counts()"
   ]
  },
  {
   "cell_type": "code",
   "execution_count": 10,
   "id": "2ec62c49-9906-438a-b54f-a9f993d5721f",
   "metadata": {},
   "outputs": [],
   "source": [
    "def parse_sales(x):\n",
    "    if isinstance(x, str):\n",
    "        x = x.replace(\"Đã bán\", \"\").strip()  \n",
    "        if x.lower().endswith(\"k\"):\n",
    "            return int(float(x[:-1].replace(\",\", \".\")) * 1000)  \n",
    "        else:\n",
    "            return int(x) \n",
    "    return None\n",
    "RatingSales[\"quantity_sales\"] = RatingSales[\"quantity_sales\"].apply(parse_sales).astype(\"Int64\")"
   ]
  },
  {
   "cell_type": "code",
   "execution_count": 11,
   "id": "b6083801-e03d-4305-826d-d9052e105bf2",
   "metadata": {},
   "outputs": [
    {
     "data": {
      "text/plain": [
       "pid\n",
       "327098    13400\n",
       "311178    23500\n",
       "334442     3200\n",
       "335362     4200\n",
       "337470     2200\n",
       "          ...  \n",
       "342508     <NA>\n",
       "342517     <NA>\n",
       "342523     <NA>\n",
       "342721     <NA>\n",
       "342725     <NA>\n",
       "Name: quantity_sales, Length: 405, dtype: Int64"
      ]
     },
     "execution_count": 11,
     "metadata": {},
     "output_type": "execute_result"
    }
   ],
   "source": [
    "RatingSales[\"quantity_sales\"]"
   ]
  },
  {
   "cell_type": "code",
   "execution_count": 13,
   "id": "e92f21ba-3d07-4126-8b68-de6e56164a00",
   "metadata": {},
   "outputs": [
    {
     "data": {
      "text/html": [
       "<div>\n",
       "<style scoped>\n",
       "    .dataframe tbody tr th:only-of-type {\n",
       "        vertical-align: middle;\n",
       "    }\n",
       "\n",
       "    .dataframe tbody tr th {\n",
       "        vertical-align: top;\n",
       "    }\n",
       "\n",
       "    .dataframe thead th {\n",
       "        text-align: right;\n",
       "    }\n",
       "</style>\n",
       "<table border=\"1\" class=\"dataframe\">\n",
       "  <thead>\n",
       "    <tr style=\"text-align: right;\">\n",
       "      <th></th>\n",
       "      <th>rating</th>\n",
       "      <th>quantity_sales</th>\n",
       "    </tr>\n",
       "    <tr>\n",
       "      <th>pid</th>\n",
       "      <th></th>\n",
       "      <th></th>\n",
       "    </tr>\n",
       "  </thead>\n",
       "  <tbody>\n",
       "    <tr>\n",
       "      <th>327098</th>\n",
       "      <td>4.9</td>\n",
       "      <td>13400</td>\n",
       "    </tr>\n",
       "    <tr>\n",
       "      <th>311178</th>\n",
       "      <td>4.9</td>\n",
       "      <td>23500</td>\n",
       "    </tr>\n",
       "    <tr>\n",
       "      <th>334442</th>\n",
       "      <td>4.9</td>\n",
       "      <td>3200</td>\n",
       "    </tr>\n",
       "    <tr>\n",
       "      <th>335362</th>\n",
       "      <td>4.9</td>\n",
       "      <td>4200</td>\n",
       "    </tr>\n",
       "    <tr>\n",
       "      <th>337470</th>\n",
       "      <td>5.0</td>\n",
       "      <td>2200</td>\n",
       "    </tr>\n",
       "    <tr>\n",
       "      <th>...</th>\n",
       "      <td>...</td>\n",
       "      <td>...</td>\n",
       "    </tr>\n",
       "    <tr>\n",
       "      <th>342508</th>\n",
       "      <td>NaN</td>\n",
       "      <td>&lt;NA&gt;</td>\n",
       "    </tr>\n",
       "    <tr>\n",
       "      <th>342517</th>\n",
       "      <td>NaN</td>\n",
       "      <td>&lt;NA&gt;</td>\n",
       "    </tr>\n",
       "    <tr>\n",
       "      <th>342523</th>\n",
       "      <td>NaN</td>\n",
       "      <td>&lt;NA&gt;</td>\n",
       "    </tr>\n",
       "    <tr>\n",
       "      <th>342721</th>\n",
       "      <td>NaN</td>\n",
       "      <td>&lt;NA&gt;</td>\n",
       "    </tr>\n",
       "    <tr>\n",
       "      <th>342725</th>\n",
       "      <td>NaN</td>\n",
       "      <td>&lt;NA&gt;</td>\n",
       "    </tr>\n",
       "  </tbody>\n",
       "</table>\n",
       "<p>405 rows × 2 columns</p>\n",
       "</div>"
      ],
      "text/plain": [
       "        rating  quantity_sales\n",
       "pid                           \n",
       "327098     4.9           13400\n",
       "311178     4.9           23500\n",
       "334442     4.9            3200\n",
       "335362     4.9            4200\n",
       "337470     5.0            2200\n",
       "...        ...             ...\n",
       "342508     NaN            <NA>\n",
       "342517     NaN            <NA>\n",
       "342523     NaN            <NA>\n",
       "342721     NaN            <NA>\n",
       "342725     NaN            <NA>\n",
       "\n",
       "[405 rows x 2 columns]"
      ]
     },
     "execution_count": 13,
     "metadata": {},
     "output_type": "execute_result"
    }
   ],
   "source": [
    "RatingSales"
   ]
  },
  {
   "cell_type": "code",
   "execution_count": 15,
   "id": "bda5b5fc-6627-4d77-8ff2-9db06b1eb053",
   "metadata": {},
   "outputs": [],
   "source": [
    "RatingSales.to_csv(\"~/Jupyter Notebook/clean data/RatingSales_clean.csv\", index=True)"
   ]
  }
 ],
 "metadata": {
  "kernelspec": {
   "display_name": "Python 3 (ipykernel)",
   "language": "python",
   "name": "python3"
  },
  "language_info": {
   "codemirror_mode": {
    "name": "ipython",
    "version": 3
   },
   "file_extension": ".py",
   "mimetype": "text/x-python",
   "name": "python",
   "nbconvert_exporter": "python",
   "pygments_lexer": "ipython3",
   "version": "3.12.9"
  }
 },
 "nbformat": 4,
 "nbformat_minor": 5
}
